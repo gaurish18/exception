{
 "cells": [
  {
   "cell_type": "markdown",
   "id": "429cacf9-4bfb-4775-9566-585bb7e034f3",
   "metadata": {},
   "source": [
    "1.In Python, an exception is an event that occurs during the execution of a program that disrupts the normal flow of the program's instructions. When an exceptional condition arises, Python raises an exception, which is a special object that represents the error or problem. Exception handling is a mechanism that allows you to deal with these exceptional conditions gracefully, rather than allowing them to crash your program.\n",
    "\n",
    "Exceptions can be caused by various reasons, including:\n",
    "\n",
    "-Errors in your code (e.g., dividing by zero, accessing a non-existent variable).\n",
    "-External factors (e.g., file not found, network connection issues).\n",
    "-User interactions (e.g., user entering invalid data).\n",
    "\n",
    "Exceptions in Python are typically represented by classes, and there is a hierarchy of exception classes. The base class for all exceptions is BaseException, but more specific exception classes inherit from it, such as Exception, ValueError, TypeError, and many others. You can catch and handle exceptions using try-except blocks in your code.\n",
    "\n",
    "Exceptions:\n",
    "\n",
    "-Exceptions occur during the runtime of a program.\n",
    "-They are caused by logical errors or external factors like invalid user input or file operations.\n",
    "-Exceptions are represented by classes and can be caught and handled using try-except blocks.\n",
    "-Your program may continue to execute after handling an exception, depending on your code.\n",
    "\n",
    "Syntax Errors:\n",
    "\n",
    "-Syntax errors occur during the parsing phase before the program is executed.\n",
    "-They are caused by violations of the language's syntax rules. Common examples include missing colons, unmatched parentheses,   or misspelled keywords.\n",
    "-Syntax errors prevent the program from running. The code won't execute until the syntax errors are fixed.\n",
    "-Syntax errors are detected by the Python interpreter before the program starts running.\n",
    "\n",
    "In summary, exceptions are errors that occur during the execution of a Python program and can be handled at runtime, while syntax errors are errors in the code's structure and will prevent the program from running until they are fixed."
   ]
  },
  {
   "cell_type": "code",
   "execution_count": null,
   "id": "d6597c3b-6d8c-4f8c-93de-e2e27ceac3ab",
   "metadata": {},
   "outputs": [],
   "source": []
  },
  {
   "cell_type": "markdown",
   "id": "bc820712-d01d-46ba-b8a9-574e47f63ece",
   "metadata": {},
   "source": [
    "2.When an exception is not handled in Python, it propagates up the call stack until it either encounters a suitable exception handler (an except block) or reaches the top level of the program. If an exception reaches the top level of the program without being handled, the program will terminate, and an error message will be displayed, indicating the unhandled exception, along with a traceback showing the sequence of function calls that led to the exception."
   ]
  },
  {
   "cell_type": "code",
   "execution_count": 1,
   "id": "71c57a5d-001d-42bc-ac56-4ca556b746be",
   "metadata": {},
   "outputs": [
    {
     "ename": "ZeroDivisionError",
     "evalue": "division by zero",
     "output_type": "error",
     "traceback": [
      "\u001b[0;31m---------------------------------------------------------------------------\u001b[0m",
      "\u001b[0;31mZeroDivisionError\u001b[0m                         Traceback (most recent call last)",
      "Cell \u001b[0;32mIn[1], line 6\u001b[0m\n\u001b[1;32m      3\u001b[0m     \u001b[38;5;28;01mreturn\u001b[39;00m result\n\u001b[1;32m      5\u001b[0m \u001b[38;5;66;03m# Triggering an exception by dividing by 0 without handling it\u001b[39;00m\n\u001b[0;32m----> 6\u001b[0m result \u001b[38;5;241m=\u001b[39m \u001b[43mdivide\u001b[49m\u001b[43m(\u001b[49m\u001b[38;5;241;43m10\u001b[39;49m\u001b[43m,\u001b[49m\u001b[43m \u001b[49m\u001b[38;5;241;43m0\u001b[39;49m\u001b[43m)\u001b[49m\n\u001b[1;32m      7\u001b[0m \u001b[38;5;28mprint\u001b[39m(\u001b[38;5;124m\"\u001b[39m\u001b[38;5;124mResult:\u001b[39m\u001b[38;5;124m\"\u001b[39m, result)\n",
      "Cell \u001b[0;32mIn[1], line 2\u001b[0m, in \u001b[0;36mdivide\u001b[0;34m(x, y)\u001b[0m\n\u001b[1;32m      1\u001b[0m \u001b[38;5;28;01mdef\u001b[39;00m \u001b[38;5;21mdivide\u001b[39m(x, y):\n\u001b[0;32m----> 2\u001b[0m     result \u001b[38;5;241m=\u001b[39m \u001b[43mx\u001b[49m\u001b[43m \u001b[49m\u001b[38;5;241;43m/\u001b[39;49m\u001b[43m \u001b[49m\u001b[43my\u001b[49m  \u001b[38;5;66;03m# This may raise a 'ZeroDivisionError' if y is 0\u001b[39;00m\n\u001b[1;32m      3\u001b[0m     \u001b[38;5;28;01mreturn\u001b[39;00m result\n",
      "\u001b[0;31mZeroDivisionError\u001b[0m: division by zero"
     ]
    }
   ],
   "source": [
    "def divide(x, y):\n",
    "    result = x / y  # This may raise a 'ZeroDivisionError' if y is 0\n",
    "    return result\n",
    "\n",
    "# Triggering an exception by dividing by 0 without handling it\n",
    "result = divide(10, 0)\n",
    "print(\"Result:\", result)\n"
   ]
  },
  {
   "cell_type": "markdown",
   "id": "0f9525cc-d520-49c4-90eb-a42670648ba6",
   "metadata": {},
   "source": [
    "In this example, we have a function divide that attempts to divide x by y. If y is 0, it will raise a ZeroDivisionError. We call this function with 10 as x and 0 as y, which will trigger the exception. If we run this code without any exception handling, it will lead to the following above output:"
   ]
  },
  {
   "cell_type": "code",
   "execution_count": null,
   "id": "8b21605a-6d2a-4b84-ba6c-592dbbcccebb",
   "metadata": {},
   "outputs": [],
   "source": []
  },
  {
   "cell_type": "markdown",
   "id": "0d22c775-e326-4d1e-a9ab-7348b94e7349",
   "metadata": {},
   "source": [
    "3.In Python, you can catch and handle exceptions using the try and except statements. The try block is used to enclose the code that might raise an exception, and the except block is used to specify how to handle the exception if it occurs."
   ]
  },
  {
   "cell_type": "code",
   "execution_count": 2,
   "id": "39bb6c44-35a8-47ae-a9de-ba030227c177",
   "metadata": {},
   "outputs": [
    {
     "ename": "IndentationError",
     "evalue": "expected an indented block after 'try' statement on line 1 (2678165681.py, line 3)",
     "output_type": "error",
     "traceback": [
      "\u001b[0;36m  Cell \u001b[0;32mIn[2], line 3\u001b[0;36m\u001b[0m\n\u001b[0;31m    except ExceptionType as e:\u001b[0m\n\u001b[0m    ^\u001b[0m\n\u001b[0;31mIndentationError\u001b[0m\u001b[0;31m:\u001b[0m expected an indented block after 'try' statement on line 1\n"
     ]
    }
   ],
   "source": [
    "try:\n",
    "    # Code that may raise an exception\n",
    "except ExceptionType as e:\n",
    "    # Code to handle the exception\n"
   ]
  },
  {
   "cell_type": "markdown",
   "id": "8550e108-616a-4008-9fcb-6651f2e89d7e",
   "metadata": {},
   "source": [
    "Here's an example that demonstrates the use of try and except to catch and handle an exception:"
   ]
  },
  {
   "cell_type": "code",
   "execution_count": 3,
   "id": "bb5a96e0-a260-40ff-aa4e-d78b5c016e4f",
   "metadata": {},
   "outputs": [
    {
     "name": "stdout",
     "output_type": "stream",
     "text": [
      "An exception occurred: division by zero\n",
      "Error: Division by zero\n",
      "Result: 5.0\n"
     ]
    }
   ],
   "source": [
    "def divide(x, y):\n",
    "    try:\n",
    "        result = x / y  # This may raise a 'ZeroDivisionError' if y is 0\n",
    "    except ZeroDivisionError as e:\n",
    "        print(\"An exception occurred:\", e)\n",
    "        result = None  # Assign a default value to result\n",
    "    return result\n",
    "\n",
    "# Triggering an exception by dividing by 0 and handling it\n",
    "result = divide(10, 0)\n",
    "if result is not None:\n",
    "    print(\"Result:\", result)\n",
    "else:\n",
    "    print(\"Error: Division by zero\")\n",
    "\n",
    "# Attempting to divide by a non-zero value\n",
    "result = divide(10, 2)\n",
    "if result is not None:\n",
    "    print(\"Result:\", result)\n"
   ]
  },
  {
   "cell_type": "markdown",
   "id": "3b20a5ae-111a-4307-b469-c0625bc37b70",
   "metadata": {},
   "source": [
    "In this example, we have a divide function that attempts to divide x by y. We use a try block to enclose the division operation. If y is 0, it will raise a ZeroDivisionError, which is caught by the except block. In the except block, we print an error message and set the result to None.\n",
    "\n",
    "When we call the divide function with 10 and 0 as arguments, it triggers the exception. The program doesn't terminate, and instead, the error is caught and handled within the except block. We print an error message and set result to None.\n",
    "\n",
    "When we call the divide function with 10 and 2, which is a valid division, it doesn't raise an exception, and the result is printed.\n",
    "\n",
    "Using try and except allows your program to gracefully handle exceptions and continue its execution or take appropriate action in case of errors, rather than crashing."
   ]
  },
  {
   "cell_type": "code",
   "execution_count": null,
   "id": "0d27f662-723f-4052-bb79-f1bef1a5948e",
   "metadata": {},
   "outputs": [],
   "source": []
  },
  {
   "cell_type": "markdown",
   "id": "e80929a7-fa8b-4d7c-aaf4-86c77b31f1e4",
   "metadata": {},
   "source": [
    "4.The try, else, finally, and raise statements in Python are used to handle exceptions and control the flow of your program. Each of these statements serves a specific purpose in exception handling. "
   ]
  },
  {
   "cell_type": "code",
   "execution_count": 4,
   "id": "f3440433-274f-4d2d-9241-d95ad19a4401",
   "metadata": {},
   "outputs": [
    {
     "name": "stdout",
     "output_type": "stream",
     "text": [
      "Cannot divide by zero.\n",
      "This block always executes.\n",
      "Error occurred in result 1.\n",
      "Division successful.\n",
      "This block always executes.\n",
      "Result 2: 5.0\n"
     ]
    }
   ],
   "source": [
    "def divide(x, y):\n",
    "    try:\n",
    "        result = x / y  # Attempt division\n",
    "    except ZeroDivisionError:\n",
    "        print(\"Cannot divide by zero.\")\n",
    "        result = None\n",
    "    else:\n",
    "        print(\"Division successful.\")\n",
    "    finally:\n",
    "        print(\"This block always executes.\")\n",
    "    return result\n",
    "\n",
    "# Example 1: Dividing by zero\n",
    "result1 = divide(10, 0)\n",
    "if result1 is not None:\n",
    "    print(\"Result 1:\", result1)\n",
    "else:\n",
    "    print(\"Error occurred in result 1.\")\n",
    "\n",
    "# Example 2: Dividing by a non-zero value\n",
    "result2 = divide(10, 2)\n",
    "if result2 is not None:\n",
    "    print(\"Result 2:\", result2)\n"
   ]
  },
  {
   "cell_type": "markdown",
   "id": "9f92582a-9c55-4ff3-9564-c1f14f1bef16",
   "metadata": {},
   "source": [
    "In this example, we have a divide function that attempts to divide x by y. Here's how the various statements are used:\n",
    "\n",
    "-try: The try block encloses the code that may raise an exception. In this case, it attempts the division operation.\n",
    "\n",
    "-except: The except block is used to catch and handle exceptions. If a ZeroDivisionError occurs (dividing by zero), it prints an error message and sets result to None.\n",
    "\n",
    "-else: The else block is executed if no exception is raised in the try block. In this case, it prints \"Division successful.\"\n",
    "\n",
    "-finally: The finally block always executes, regardless of whether an exception occurred or not. It is often used for cleanup tasks or actions that must be performed, such as closing files or releasing resources."
   ]
  },
  {
   "cell_type": "markdown",
   "id": "397b2e64-8a3d-4a57-acfd-1a188d771d25",
   "metadata": {},
   "source": [
    "Now, let's see how this example works:\n",
    "\n",
    "In the first example (dividing by 0), an exception occurs, so the except block is executed, and \"Cannot divide by zero\" is printed. Then, the finally block is executed, printing \"This block always executes.\"\n",
    "\n",
    "In the second example (dividing by 2), no exception occurs, so the else block is executed, printing \"Division successful.\" Then, the finally block is executed.\n",
    "\n",
    "This code demonstrates the use of try and else to handle exceptions and ensure that the finally block is executed, regardless of whether an exception is raised. Additionally, the raise statement can be used to manually raise exceptions, but it's not used in this example."
   ]
  },
  {
   "cell_type": "code",
   "execution_count": null,
   "id": "8e917dbf-3450-42d1-9378-a52eac8f7f85",
   "metadata": {},
   "outputs": [],
   "source": []
  },
  {
   "cell_type": "markdown",
   "id": "f9f1abe8-bf66-4117-baa8-9d3da39741cc",
   "metadata": {},
   "source": [
    "5.Custom exceptions, also known as user-defined exceptions, are exceptions that you create yourself in Python to handle specific error conditions in your code. While Python provides a wide range of built-in exception classes for common error scenarios, there are situations where you may need to define your own custom exceptions to make your code more readable, maintainable, and to provide more informative error messages for specific error conditions.\n",
    "\n",
    "Here's why you might need custom exceptions:\n",
    "\n",
    "-Clarity: Custom exceptions can make your code more self-explanatory by giving meaningful names to exceptional situations, making it easier for others (or your future self) to understand the purpose of the exception.\n",
    "\n",
    "-Categorization: Custom exceptions allow you to categorize different error conditions under specific exception types, simplifying the error-handling logic in your code.\n",
    "\n",
    "-Custom Error Messages: You can provide custom error messages that are more informative and helpful to users or developers when a custom exception is raised.\n",
    "\n",
    "-Encapsulation: By creating custom exceptions, you encapsulate error-handling logic for specific error conditions in one place, making your code cleaner and more maintainable."
   ]
  },
  {
   "cell_type": "code",
   "execution_count": 5,
   "id": "b27c820f-12d9-442b-8c46-c98839f9457c",
   "metadata": {},
   "outputs": [
    {
     "name": "stdout",
     "output_type": "stream",
     "text": [
      "Custom Exception Caught: Negative values are not allowed.\n"
     ]
    }
   ],
   "source": [
    "class MyCustomException(Exception):\n",
    "    def __init__(self, message=\"This is a custom exception.\"):\n",
    "        self.message = message\n",
    "        super().__init__(self.message)\n",
    "\n",
    "def some_function(value):\n",
    "    if value < 0:\n",
    "        raise MyCustomException(\"Negative values are not allowed.\")\n",
    "\n",
    "try:\n",
    "    value = -5\n",
    "    some_function(value)\n",
    "except MyCustomException as e:\n",
    "    print(f\"Custom Exception Caught: {e}\")\n",
    "else:\n",
    "    print(\"No custom exception occurred.\")\n"
   ]
  },
  {
   "cell_type": "markdown",
   "id": "1159eac6-2468-443c-bd43-b9f93bc80a5b",
   "metadata": {},
   "source": [
    "In this example, we define a custom exception called MyCustomException by creating a new class that inherits from the base Exception class. This custom exception can take an optional custom error message as an argument when it's raised.\n",
    "\n",
    "The some_function function checks if the value argument is negative. If it is, it raises a MyCustomException with a custom error message.\n",
    "\n",
    "In the main part of the code, we call some_function with a negative value, which raises the custom exception. The exception is caught in the except block, and the custom error message is printed. If the function is called with a non-negative value, the else block is executed, indicating that no custom exception occurred.\n",
    "\n",
    "Custom exceptions are useful in larger codebases and complex projects where you want to provide meaningful error handling for specific scenarios. They help in structuring and organizing your error-handling code and make it easier to maintain and debug."
   ]
  },
  {
   "cell_type": "code",
   "execution_count": null,
   "id": "41061f30-91fa-4af2-8327-8ef3d71d745e",
   "metadata": {},
   "outputs": [],
   "source": []
  },
  {
   "cell_type": "markdown",
   "id": "9f5b28a2-2b05-434c-9224-8b9ad6204426",
   "metadata": {},
   "source": [
    "6"
   ]
  }
 ],
 "metadata": {
  "kernelspec": {
   "display_name": "Python 3 (ipykernel)",
   "language": "python",
   "name": "python3"
  },
  "language_info": {
   "codemirror_mode": {
    "name": "ipython",
    "version": 3
   },
   "file_extension": ".py",
   "mimetype": "text/x-python",
   "name": "python",
   "nbconvert_exporter": "python",
   "pygments_lexer": "ipython3",
   "version": "3.10.8"
  }
 },
 "nbformat": 4,
 "nbformat_minor": 5
}
